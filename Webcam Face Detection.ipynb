{
 "cells": [
  {
   "cell_type": "code",
   "execution_count": 2,
   "id": "85408595",
   "metadata": {},
   "outputs": [
    {
     "ename": "ModuleNotFoundError",
     "evalue": "No module named 'cv'",
     "output_type": "error",
     "traceback": [
      "\u001b[1;31m---------------------------------------------------------------------------\u001b[0m",
      "\u001b[1;31mModuleNotFoundError\u001b[0m                       Traceback (most recent call last)",
      "Cell \u001b[1;32mIn[2], line 1\u001b[0m\n\u001b[1;32m----> 1\u001b[0m \u001b[38;5;28;01mimport\u001b[39;00m \u001b[38;5;21;01mcv\u001b[39;00m\n",
      "\u001b[1;31mModuleNotFoundError\u001b[0m: No module named 'cv'"
     ]
    }
   ],
   "source": [
    "import cv2"
   ]
  },
  {
   "cell_type": "code",
   "execution_count": 3,
   "id": "71376f8c",
   "metadata": {},
   "outputs": [],
   "source": [
    "class Detector:\n",
    "    def __init__(self, faceCascadePath):\n",
    "        self.faceCascade = cv2.CascadeClassifier(faceCascadePath)\n",
    "        \n",
    "    def detect(self, image, scaleFactor=1.4, minNeighbors=5, minSize=(30, 30)):\n",
    "        rects = self.faceCascade.detectMultiScale(image,\n",
    "                                                  scaleFactor=scaleFactor,\n",
    "                                                  minNeighbors=minNeighbors,\n",
    "                                                  minSize=minSize,\n",
    "                                                  flags=cv2.CASCADE_SCALE_IMAGE)\n",
    "        return rects"
   ]
  },
  {
   "cell_type": "code",
   "execution_count": 4,
   "id": "12954e03",
   "metadata": {},
   "outputs": [],
   "source": [
    "def resize(image, width=None, height=None, inter=cv2.INTER_AREA):\n",
    "    (h, w) = image.shape[:2]\n",
    "    dim = None\n",
    "    \n",
    "    if width is None and height is None:\n",
    "        return image\n",
    "    \n",
    "    if width is None:\n",
    "        r = height / float(h)\n",
    "        dim = (int(r * w), height)\n",
    "    else:\n",
    "        r = width / float(w)\n",
    "        dim = (width, int(r * h))\n",
    "        \n",
    "    resized = cv2.resize(image, dim, interpolation=inter)\n",
    "    return resized"
   ]
  },
  {
   "cell_type": "markdown",
   "id": "917e463d",
   "metadata": {},
   "source": [
    "Here, we want to resize the video as per the convinence. For that we can create the resize function using OpenCV library which takes the video frame and the width to be resized as the parameters and outputs the resized video frame, we want the webcam should be opened. "
   ]
  },
  {
   "cell_type": "code",
   "execution_count": 7,
   "id": "9d29fe29",
   "metadata": {},
   "outputs": [],
   "source": [
    "fd = Detector(\"haarcascade_frontalface_default.xml\")"
   ]
  },
  {
   "cell_type": "code",
   "execution_count": 8,
   "id": "6b0513e8",
   "metadata": {},
   "outputs": [],
   "source": [
    "webcam = cv2.VideoCapture(0)\n",
    "while True:\n",
    "    (grabbed, frame) = webcam.read()\n",
    "    \n",
    "    # frame = resize(frame, width=500)\n",
    "    ht,wid = frame.shape[:2]\n",
    "    gray = cv2.cvtColor(frame, cv2.COLOR_BGR2GRAY)\n",
    "    gray_flip = cv2.flip(gray,1)\n",
    "    frontal = fd.detect(gray_flip)\n",
    "\n",
    "    frameClone = frame.copy()\n",
    "    frameClone2 = cv2.flip(frameClone,1)\n",
    "\n",
    "    for (x, y, w, h) in frontal:\n",
    "        cv2.rectangle(frameClone2, (x, y), (x+w, y+h), (0, 255, 0), 2)\n",
    " \n",
    "    cv2.imshow(\"Faces\", frameClone2)\n",
    "    \n",
    "    if cv2.waitKey(1) & 0xFF == ord(\"q\"):\n",
    "        break   \n",
    "\n",
    "webcam.release()\n",
    "cv2.destroyAllWindows()        "
   ]
  },
  {
   "cell_type": "code",
   "execution_count": null,
   "id": "eae7ee5e",
   "metadata": {},
   "outputs": [],
   "source": []
  }
 ],
 "metadata": {
  "kernelspec": {
   "display_name": "Python 3 (ipykernel)",
   "language": "python",
   "name": "python3"
  },
  "language_info": {
   "codemirror_mode": {
    "name": "ipython",
    "version": 3
   },
   "file_extension": ".py",
   "mimetype": "text/x-python",
   "name": "python",
   "nbconvert_exporter": "python",
   "pygments_lexer": "ipython3",
   "version": "3.11.2"
  }
 },
 "nbformat": 4,
 "nbformat_minor": 5
}
